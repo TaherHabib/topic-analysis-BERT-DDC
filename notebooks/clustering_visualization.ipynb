{
 "cells": [
  {
   "cell_type": "code",
   "execution_count": 1,
   "id": "e8f81c0e",
   "metadata": {},
   "outputs": [],
   "source": [
    "import os\n",
    "import sys\n",
    "\n",
    "os.getcwd()\n",
    "os.chdir('/home/thabib/study_behavior_analysis/')\n",
    "sys.path.append('/home/thabib/study_behavior_analysis/src/SidBERT')"
   ]
  },
  {
   "cell_type": "code",
   "execution_count": 2,
   "id": "8eae2374",
   "metadata": {},
   "outputs": [
    {
     "name": "stderr",
     "output_type": "stream",
     "text": [
      "2022-03-28 13:47:58.359397: W tensorflow/stream_executor/platform/default/dso_loader.cc:64] Could not load dynamic library 'libcudart.so.11.0'; dlerror: libcudart.so.11.0: cannot open shared object file: No such file or directory\n",
      "2022-03-28 13:47:58.359434: I tensorflow/stream_executor/cuda/cudart_stub.cc:29] Ignore above cudart dlerror if you do not have a GPU set up on your machine.\n"
     ]
    }
   ],
   "source": [
    "import numpy as np\n",
    "import pandas as pd\n",
    "import h5py\n",
    "import matplotlib as mpl\n",
    "import matplotlib.pyplot as plt\n",
    "import seaborn as sns\n",
    "from IPython.display import display\n",
    "from sklearn.preprocessing import StandardScaler, MinMaxScaler, RobustScaler\n",
    "\n",
    "from utils import settings\n",
    "from embeddings_generator import load_embeddings\n",
    "from src.reducers.pca import PCAReducer\n",
    "from src.clusterers.kmeans import KMEANS_CLUSTERER\n",
    "from src.clusterers.dbscan import DBSCAN_CLUSTERER\n",
    "from src.clusterers.cluster_utils import get_kdist_plot\n",
    "\n",
    "project_root = settings.get_project_root()"
   ]
  },
  {
   "cell_type": "code",
   "execution_count": 4,
   "id": "4f488a2b",
   "metadata": {},
   "outputs": [],
   "source": [
    "classes_to_cluster = list(np.arange(10).astype('str')) # ['1','2','4','8','9']\n",
    "n_samples = 5000\n",
    "\n",
    "layer = 7 # 'pooler_output' # 2048 entries per sample for classification head, \n",
    "                        # for 'pooler_output' it is 768\n",
    "original_only = True\n",
    "\n",
    "# File name arguments for saving to disk\n",
    "file_args = {\n",
    "    'layer': layer,\n",
    "    'classes': classes_to_cluster,\n",
    "    'n_samples': n_samples,\n",
    "    'original_only': original_only\n",
    "}"
   ]
  },
  {
   "cell_type": "code",
   "execution_count": 5,
   "id": "6c59b364",
   "metadata": {},
   "outputs": [
    {
     "data": {
      "text/html": [
       "<div>\n",
       "<style scoped>\n",
       "    .dataframe tbody tr th:only-of-type {\n",
       "        vertical-align: middle;\n",
       "    }\n",
       "\n",
       "    .dataframe tbody tr th {\n",
       "        vertical-align: top;\n",
       "    }\n",
       "\n",
       "    .dataframe thead th {\n",
       "        text-align: right;\n",
       "    }\n",
       "</style>\n",
       "<table border=\"1\" class=\"dataframe\">\n",
       "  <thead>\n",
       "    <tr style=\"text-align: right;\">\n",
       "      <th></th>\n",
       "      <th>index</th>\n",
       "      <th>Title</th>\n",
       "      <th>DDC</th>\n",
       "      <th>root_class</th>\n",
       "    </tr>\n",
       "  </thead>\n",
       "  <tbody>\n",
       "    <tr>\n",
       "      <th>0</th>\n",
       "      <td>1325</td>\n",
       "      <td>Artificial neural nets and genetic algorithms,...</td>\n",
       "      <td>0063</td>\n",
       "      <td>0</td>\n",
       "    </tr>\n",
       "    <tr>\n",
       "      <th>1</th>\n",
       "      <td>1680</td>\n",
       "      <td>Byte guide to OpenDoc</td>\n",
       "      <td>0053</td>\n",
       "      <td>0</td>\n",
       "    </tr>\n",
       "    <tr>\n",
       "      <th>2</th>\n",
       "      <td>1987</td>\n",
       "      <td>From natural to artificial neural computation,...</td>\n",
       "      <td>0063</td>\n",
       "      <td>0</td>\n",
       "    </tr>\n",
       "    <tr>\n",
       "      <th>3</th>\n",
       "      <td>3154</td>\n",
       "      <td>Understanding neural networks and fuzzy logic,...</td>\n",
       "      <td>0063</td>\n",
       "      <td>0</td>\n",
       "    </tr>\n",
       "    <tr>\n",
       "      <th>4</th>\n",
       "      <td>6184</td>\n",
       "      <td>14th international conference, Chicago, Illino...</td>\n",
       "      <td>003</td>\n",
       "      <td>0</td>\n",
       "    </tr>\n",
       "    <tr>\n",
       "      <th>...</th>\n",
       "      <td>...</td>\n",
       "      <td>...</td>\n",
       "      <td>...</td>\n",
       "      <td>...</td>\n",
       "    </tr>\n",
       "    <tr>\n",
       "      <th>49995</th>\n",
       "      <td>599442</td>\n",
       "      <td>Enzyklopädie deutscher Geschichte / hrsg. von ...</td>\n",
       "      <td>943</td>\n",
       "      <td>9</td>\n",
       "    </tr>\n",
       "    <tr>\n",
       "      <th>49996</th>\n",
       "      <td>602514</td>\n",
       "      <td>Festschrift zur 150-Jahrfeier der Frankfurter ...</td>\n",
       "      <td>910</td>\n",
       "      <td>9</td>\n",
       "    </tr>\n",
       "    <tr>\n",
       "      <th>49997</th>\n",
       "      <td>603071</td>\n",
       "      <td>Griechische Städteanlagen : Untersuchungen zur...</td>\n",
       "      <td>938</td>\n",
       "      <td>9</td>\n",
       "    </tr>\n",
       "    <tr>\n",
       "      <th>49998</th>\n",
       "      <td>603176</td>\n",
       "      <td>Die Befreiung des Prometheus : ein Fund aus Pe...</td>\n",
       "      <td>9301</td>\n",
       "      <td>9</td>\n",
       "    </tr>\n",
       "    <tr>\n",
       "      <th>49999</th>\n",
       "      <td>603177</td>\n",
       "      <td>Römische Kultur im Bilde</td>\n",
       "      <td>937</td>\n",
       "      <td>9</td>\n",
       "    </tr>\n",
       "  </tbody>\n",
       "</table>\n",
       "<p>50000 rows × 4 columns</p>\n",
       "</div>"
      ],
      "text/plain": [
       "        index                                              Title   DDC  \\\n",
       "0        1325  Artificial neural nets and genetic algorithms,...  0063   \n",
       "1        1680                              Byte guide to OpenDoc  0053   \n",
       "2        1987  From natural to artificial neural computation,...  0063   \n",
       "3        3154  Understanding neural networks and fuzzy logic,...  0063   \n",
       "4        6184  14th international conference, Chicago, Illino...   003   \n",
       "...       ...                                                ...   ...   \n",
       "49995  599442  Enzyklopädie deutscher Geschichte / hrsg. von ...   943   \n",
       "49996  602514  Festschrift zur 150-Jahrfeier der Frankfurter ...   910   \n",
       "49997  603071  Griechische Städteanlagen : Untersuchungen zur...   938   \n",
       "49998  603176  Die Befreiung des Prometheus : ein Fund aus Pe...  9301   \n",
       "49999  603177                           Römische Kultur im Bilde   937   \n",
       "\n",
       "      root_class  \n",
       "0              0  \n",
       "1              0  \n",
       "2              0  \n",
       "3              0  \n",
       "4              0  \n",
       "...          ...  \n",
       "49995          9  \n",
       "49996          9  \n",
       "49997          9  \n",
       "49998          9  \n",
       "49999          9  \n",
       "\n",
       "[50000 rows x 4 columns]"
      ]
     },
     "execution_count": 5,
     "metadata": {},
     "output_type": "execute_result"
    }
   ],
   "source": [
    "dir_name = 'Layer{}_Classes{}_SamplesPerRootClass{}_OriginalOnly{}'.format(layer,\n",
    "                                                                           ''.join(classes_to_cluster),\n",
    "                                                                           n_samples,\n",
    "                                                                           original_only)\n",
    "data_filename = 'df_book_ddc'\n",
    "\n",
    "df_data = pd.read_hdf(os.path.join(project_root, 'src', 'data', 'SidBERT_data', 'pca_embeddings', \n",
    "                                   dir_name, data_filename+'.hdf5'), mode='r', key=data_filename)\n",
    "\n",
    "real_labels = list(df_data['root_class'])\n",
    "df_data"
   ]
  },
  {
   "cell_type": "code",
   "execution_count": 7,
   "id": "2004b8b6",
   "metadata": {},
   "outputs": [
    {
     "data": {
      "text/plain": [
       "(50000, 240)"
      ]
     },
     "execution_count": 7,
     "metadata": {},
     "output_type": "execute_result"
    }
   ],
   "source": [
    "# Load PCA embeddings with given values of #components, variance retention and used scaler\n",
    "pca_comp = 240\n",
    "pca_var = 85\n",
    "pca_scaler = 'StandardScaler'\n",
    "pca_filename = 'Comp{}_Var{}_Scaler{}'.format(pca_comp, pca_var, pca_scaler)\n",
    "\n",
    "with np.load(os.path.join(project_root, 'src', 'data', 'SidBERT_data', 'pca_embeddings', dir_name, \n",
    "                          pca_filename+'.npz'), allow_pickle=True) as dt:\n",
    "    pca_results_ = dict(dt)\n",
    "\n",
    "reduced_embeddings = pca_results_['reduced_emb']\n",
    "\n",
    "reduced_embeddings.shape"
   ]
  },
  {
   "cell_type": "markdown",
   "id": "d7da8d19",
   "metadata": {},
   "source": [
    "# k-Means"
   ]
  },
  {
   "cell_type": "code",
   "execution_count": 22,
   "id": "8d09b9ce",
   "metadata": {},
   "outputs": [
    {
     "data": {
      "text/plain": [
       "(22,)"
      ]
     },
     "execution_count": 22,
     "metadata": {},
     "output_type": "execute_result"
    }
   ],
   "source": [
    "# Load pre-saved kMeans results from disk\n",
    "\n",
    "kmeans_hyperparams = {\n",
    "    'n_clusters_range': [5, 6, 7, 8, 9, 10, 11, 12, 13, 14, 15],\n",
    "    'init_range': ['k-means++', 'random'],\n",
    "    'max_iter_range': [500]\n",
    "    }\n",
    "\n",
    "kmeans_results_ = []\n",
    "kmeans_results_idx = []\n",
    "\n",
    "kmeans_dir_name = 'Layer{}_Classes{}_SamplesPerRootClass{}_OriginalOnly{}_PCAComp{}_PCAVar{}_PCAScaler{}'.format(\n",
    "    layer, ''.join(classes_to_cluster), n_samples, original_only, pca_comp, pca_var, pca_scaler)\n",
    "\n",
    "\n",
    "for init in kmeans_hyperparams['init_range']:\n",
    "    for cl in kmeans_hyperparams['n_clusters_range']:\n",
    "        for it in kmeans_hyperparams['max_iter_range']:\n",
    "            file_name = 'Clusters{}_Init{}_Iter{}'.format(cl, init, it)\n",
    "            with np.load(os.path.join(project_root, 'src', 'data', 'SidBERT_data', 'kmeans', kmeans_dir_name, \n",
    "                                      file_name+'.npz'), allow_pickle=True) as dt:\n",
    "                results_ = dict(dt)\n",
    "            kmeans_results_idx.append(file_name)\n",
    "            kmeans_results_.append(results_)\n",
    "\n",
    "kmeans_results_ = np.array(kmeans_results_, dtype=object)\n",
    "kmeans_results_idx = np.array(kmeans_results_idx, dtype=object)\n",
    "\n",
    "kmeans_results_.shape"
   ]
  },
  {
   "cell_type": "code",
   "execution_count": 47,
   "id": "24a7ba01",
   "metadata": {},
   "outputs": [
    {
     "data": {
      "text/plain": [
       "9.731252296535231"
      ]
     },
     "execution_count": 47,
     "metadata": {},
     "output_type": "execute_result"
    }
   ],
   "source": [
    "d = float(kmeans_results_[0]['db_score'])\n",
    "d"
   ]
  },
  {
   "cell_type": "code",
   "execution_count": 49,
   "id": "3209310f",
   "metadata": {},
   "outputs": [
    {
     "data": {
      "text/plain": [
       "54"
      ]
     },
     "execution_count": 49,
     "metadata": {},
     "output_type": "execute_result"
    }
   ],
   "source": [
    "int(kmeans_results_[0]['n_iter_'])"
   ]
  },
  {
   "cell_type": "code",
   "execution_count": 23,
   "id": "00a509da",
   "metadata": {
    "scrolled": true
   },
   "outputs": [
    {
     "data": {
      "text/plain": [
       "array(['Clusters5_Initk-means++_Iter500',\n",
       "       'Clusters6_Initk-means++_Iter500',\n",
       "       'Clusters7_Initk-means++_Iter500',\n",
       "       'Clusters8_Initk-means++_Iter500',\n",
       "       'Clusters9_Initk-means++_Iter500',\n",
       "       'Clusters10_Initk-means++_Iter500',\n",
       "       'Clusters11_Initk-means++_Iter500',\n",
       "       'Clusters12_Initk-means++_Iter500',\n",
       "       'Clusters13_Initk-means++_Iter500',\n",
       "       'Clusters14_Initk-means++_Iter500',\n",
       "       'Clusters15_Initk-means++_Iter500', 'Clusters5_Initrandom_Iter500',\n",
       "       'Clusters6_Initrandom_Iter500', 'Clusters7_Initrandom_Iter500',\n",
       "       'Clusters8_Initrandom_Iter500', 'Clusters9_Initrandom_Iter500',\n",
       "       'Clusters10_Initrandom_Iter500', 'Clusters11_Initrandom_Iter500',\n",
       "       'Clusters12_Initrandom_Iter500', 'Clusters13_Initrandom_Iter500',\n",
       "       'Clusters14_Initrandom_Iter500', 'Clusters15_Initrandom_Iter500'],\n",
       "      dtype=object)"
      ]
     },
     "execution_count": 23,
     "metadata": {},
     "output_type": "execute_result"
    }
   ],
   "source": [
    "kmeans_results_idx"
   ]
  },
  {
   "cell_type": "markdown",
   "id": "e3fe4ec8",
   "metadata": {},
   "source": [
    "#### Plot for maximum cluster size with number of clusters\n"
   ]
  },
  {
   "cell_type": "code",
   "execution_count": 26,
   "id": "4b998f40",
   "metadata": {},
   "outputs": [
    {
     "ename": "TypeError",
     "evalue": "iteration over a 0-d array",
     "output_type": "error",
     "traceback": [
      "\u001b[0;31m---------------------------------------------------------------------------\u001b[0m",
      "\u001b[0;31mTypeError\u001b[0m                                 Traceback (most recent call last)",
      "Input \u001b[0;32mIn [26]\u001b[0m, in \u001b[0;36m<module>\u001b[0;34m\u001b[0m\n\u001b[1;32m      5\u001b[0m nonrandom_init_cluster_sizes \u001b[38;5;241m=\u001b[39m {\n\u001b[1;32m      6\u001b[0m     \u001b[38;5;124m'\u001b[39m\u001b[38;5;124mmax\u001b[39m\u001b[38;5;124m'\u001b[39m: [],\n\u001b[1;32m      7\u001b[0m     \u001b[38;5;124m'\u001b[39m\u001b[38;5;124mmin\u001b[39m\u001b[38;5;124m'\u001b[39m: []\n\u001b[1;32m      8\u001b[0m }\n\u001b[1;32m     10\u001b[0m \u001b[38;5;28;01mfor\u001b[39;00m idx \u001b[38;5;129;01min\u001b[39;00m \u001b[38;5;28mrange\u001b[39m(\u001b[38;5;28mlen\u001b[39m(kmeans_hyperparams[\u001b[38;5;124m'\u001b[39m\u001b[38;5;124mn_clusters_range\u001b[39m\u001b[38;5;124m'\u001b[39m])):\n\u001b[0;32m---> 11\u001b[0m     cluster_size_dict \u001b[38;5;241m=\u001b[39m \u001b[38;5;28;43mdict\u001b[39;49m\u001b[43m(\u001b[49m\u001b[43mkmeans_results_\u001b[49m\u001b[43m[\u001b[49m\u001b[43midx\u001b[49m\u001b[43m]\u001b[49m\u001b[43m[\u001b[49m\u001b[38;5;124;43m'\u001b[39;49m\u001b[38;5;124;43mcluster_sizes\u001b[39;49m\u001b[38;5;124;43m'\u001b[39;49m\u001b[43m]\u001b[49m\u001b[43m)\u001b[49m\n\u001b[1;32m     12\u001b[0m     nonrandom_init_cluster_sizes[\u001b[38;5;124m'\u001b[39m\u001b[38;5;124mmax\u001b[39m\u001b[38;5;124m'\u001b[39m]\u001b[38;5;241m.\u001b[39mappend(cluster_size_dict[\u001b[38;5;28mnext\u001b[39m(\u001b[38;5;28mreversed\u001b[39m(cluster_size_dict\u001b[38;5;241m.\u001b[39mkeys()))])\n\u001b[1;32m     13\u001b[0m     nonrandom_init_cluster_sizes[\u001b[38;5;124m'\u001b[39m\u001b[38;5;124mmin\u001b[39m\u001b[38;5;124m'\u001b[39m]\u001b[38;5;241m.\u001b[39mappend(cluster_size_dict[\u001b[38;5;28mnext\u001b[39m(\u001b[38;5;28miter\u001b[39m(cluster_size_dict\u001b[38;5;241m.\u001b[39mkeys()))])\n",
      "\u001b[0;31mTypeError\u001b[0m: iteration over a 0-d array"
     ]
    }
   ],
   "source": [
    "random_init_cluster_sizes = {\n",
    "    'max': [],\n",
    "    'min': []\n",
    "}\n",
    "nonrandom_init_cluster_sizes = {\n",
    "    'max': [],\n",
    "    'min': []\n",
    "}\n",
    "\n",
    "for idx in range(len(kmeans_hyperparams['n_clusters_range'])):\n",
    "    cluster_size_dict = dict(kmeans_results_[idx]['cluster_sizes'])\n",
    "    nonrandom_init_cluster_sizes['max'].append(cluster_size_dict[next(reversed(cluster_size_dict.keys()))])\n",
    "    nonrandom_init_cluster_sizes['min'].append(cluster_size_dict[next(iter(cluster_size_dict.keys()))])\n",
    "    \n",
    "    cluster_size_dict = dict(kmeans_results_[idx+len(kmeans_hyperparams['n_clusters_range'])]['cluster_sizes'])\n",
    "    random_init_cluster_sizes['max'].append(cluster_size_dict[next(reversed(cluster_size_dict.keys()))])\n",
    "    random_init_cluster_sizes['min'].append(cluster_size_dict[next(iter(cluster_size_dict.keys()))])"
   ]
  },
  {
   "cell_type": "code",
   "execution_count": 19,
   "id": "4487585d",
   "metadata": {},
   "outputs": [
    {
     "ename": "TypeError",
     "evalue": "plot got an unexpected keyword argument 'x'",
     "output_type": "error",
     "traceback": [
      "\u001b[0;31m---------------------------------------------------------------------------\u001b[0m",
      "\u001b[0;31mTypeError\u001b[0m                                 Traceback (most recent call last)",
      "Input \u001b[0;32mIn [19]\u001b[0m, in \u001b[0;36m<module>\u001b[0;34m\u001b[0m\n\u001b[1;32m      2\u001b[0m fig, axes \u001b[38;5;241m=\u001b[39m plt\u001b[38;5;241m.\u001b[39msubplots(\u001b[38;5;241m1\u001b[39m, \u001b[38;5;241m2\u001b[39m, figsize\u001b[38;5;241m=\u001b[39m(\u001b[38;5;241m16\u001b[39m, \u001b[38;5;241m6\u001b[39m))\n\u001b[1;32m      3\u001b[0m fig\u001b[38;5;241m.\u001b[39msuptitle(\u001b[38;5;124m'\u001b[39m\u001b[38;5;124mMaximum and Minimum Cluster sizes\u001b[39m\u001b[38;5;124m'\u001b[39m, fontsize\u001b[38;5;241m=\u001b[39m\u001b[38;5;241m16\u001b[39m)\n\u001b[0;32m----> 5\u001b[0m \u001b[43maxes\u001b[49m\u001b[43m[\u001b[49m\u001b[38;5;241;43m0\u001b[39;49m\u001b[43m]\u001b[49m\u001b[38;5;241;43m.\u001b[39;49m\u001b[43mplot\u001b[49m\u001b[43m(\u001b[49m\u001b[43mx\u001b[49m\u001b[38;5;241;43m=\u001b[39;49m\u001b[43mkmeans_hyperparams\u001b[49m\u001b[43m[\u001b[49m\u001b[38;5;124;43m'\u001b[39;49m\u001b[38;5;124;43mn_clusters_range\u001b[39;49m\u001b[38;5;124;43m'\u001b[39;49m\u001b[43m]\u001b[49m\u001b[43m)\u001b[49m\n",
      "File \u001b[0;32m~/anaconda3/envs/nlp_siddata/lib/python3.8/site-packages/matplotlib/axes/_axes.py:1632\u001b[0m, in \u001b[0;36mAxes.plot\u001b[0;34m(self, scalex, scaley, data, *args, **kwargs)\u001b[0m\n\u001b[1;32m   1390\u001b[0m \u001b[38;5;124;03m\"\"\"\u001b[39;00m\n\u001b[1;32m   1391\u001b[0m \u001b[38;5;124;03mPlot y versus x as lines and/or markers.\u001b[39;00m\n\u001b[1;32m   1392\u001b[0m \n\u001b[0;32m   (...)\u001b[0m\n\u001b[1;32m   1629\u001b[0m \u001b[38;5;124;03m(``'green'``) or hex strings (``'#008000'``).\u001b[39;00m\n\u001b[1;32m   1630\u001b[0m \u001b[38;5;124;03m\"\"\"\u001b[39;00m\n\u001b[1;32m   1631\u001b[0m kwargs \u001b[38;5;241m=\u001b[39m cbook\u001b[38;5;241m.\u001b[39mnormalize_kwargs(kwargs, mlines\u001b[38;5;241m.\u001b[39mLine2D)\n\u001b[0;32m-> 1632\u001b[0m lines \u001b[38;5;241m=\u001b[39m [\u001b[38;5;241m*\u001b[39m\u001b[38;5;28mself\u001b[39m\u001b[38;5;241m.\u001b[39m_get_lines(\u001b[38;5;241m*\u001b[39margs, data\u001b[38;5;241m=\u001b[39mdata, \u001b[38;5;241m*\u001b[39m\u001b[38;5;241m*\u001b[39mkwargs)]\n\u001b[1;32m   1633\u001b[0m \u001b[38;5;28;01mfor\u001b[39;00m line \u001b[38;5;129;01min\u001b[39;00m lines:\n\u001b[1;32m   1634\u001b[0m     \u001b[38;5;28mself\u001b[39m\u001b[38;5;241m.\u001b[39madd_line(line)\n",
      "File \u001b[0;32m~/anaconda3/envs/nlp_siddata/lib/python3.8/site-packages/matplotlib/axes/_base.py:247\u001b[0m, in \u001b[0;36m_process_plot_var_args.__call__\u001b[0;34m(self, data, *args, **kwargs)\u001b[0m\n\u001b[1;32m    245\u001b[0m \u001b[38;5;28;01mfor\u001b[39;00m pos_only \u001b[38;5;129;01min\u001b[39;00m \u001b[38;5;124m\"\u001b[39m\u001b[38;5;124mxy\u001b[39m\u001b[38;5;124m\"\u001b[39m:\n\u001b[1;32m    246\u001b[0m     \u001b[38;5;28;01mif\u001b[39;00m pos_only \u001b[38;5;129;01min\u001b[39;00m kwargs:\n\u001b[0;32m--> 247\u001b[0m         \u001b[38;5;28;01mraise\u001b[39;00m \u001b[38;5;167;01mTypeError\u001b[39;00m(\u001b[38;5;124m\"\u001b[39m\u001b[38;5;132;01m{}\u001b[39;00m\u001b[38;5;124m got an unexpected keyword argument \u001b[39m\u001b[38;5;132;01m{!r}\u001b[39;00m\u001b[38;5;124m\"\u001b[39m\n\u001b[1;32m    248\u001b[0m                         \u001b[38;5;241m.\u001b[39mformat(\u001b[38;5;28mself\u001b[39m\u001b[38;5;241m.\u001b[39mcommand, pos_only))\n\u001b[1;32m    250\u001b[0m \u001b[38;5;28;01mif\u001b[39;00m \u001b[38;5;129;01mnot\u001b[39;00m args:\n\u001b[1;32m    251\u001b[0m     \u001b[38;5;28;01mreturn\u001b[39;00m\n",
      "\u001b[0;31mTypeError\u001b[0m: plot got an unexpected keyword argument 'x'"
     ]
    },
    {
     "data": {
      "image/png": "[encoded data removed]",
      "text/plain": [
       "<Figure size 1152x432 with 2 Axes>"
      ]
     },
     "metadata": {
      "needs_background": "light"
     },
     "output_type": "display_data"
    }
   ],
   "source": [
    "\n",
    "\n",
    "\n",
    "fig, axes = plt.subplots(1, 2, figsize=(16, 6))\n",
    "fig.suptitle('Maximum and Minimum Cluster sizes', fontsize=16)\n",
    "\n",
    "axes[0].plot()\n",
    "axes[0].title()"
   ]
  },
  {
   "cell_type": "code",
   "execution_count": null,
   "id": "54a2c701",
   "metadata": {},
   "outputs": [],
   "source": []
  },
  {
   "cell_type": "markdown",
   "id": "babec43f",
   "metadata": {},
   "source": [
    "# DBSCAN"
   ]
  },
  {
   "cell_type": "code",
   "execution_count": null,
   "id": "95639ed3",
   "metadata": {},
   "outputs": [],
   "source": [
    "# Load pre-saved DBSCAN results from disk\n",
    "\n",
    "kmeans_hyperparams = {\n",
    "    'n_clusters_range': [5, 6, 7, 8, 9, 10, 11, 12, 13, 14, 15],\n",
    "    'init_range': ['k-means++', 'random'],\n",
    "    'max_iter_range': [500]\n",
    "    }\n",
    "\n",
    "kmeans_results_ = []\n",
    "\n",
    "pca_comp = 240\n",
    "pca_var = 86\n",
    "pca_scaler = 'StandardScaler'\n",
    "kmeans_dir_name = 'Layer{}_Classes{}_SamplesPerRootClass{}_OriginalOnly{}_PCAComp{}_PCAVar{}_PCAScaler'.format(\n",
    "    layer, ''.join(classes_to_visualize), n_samples, original_only, pca_comp, pca_var, pca_scaler)\n",
    "\n",
    "\n",
    "for cl in kmeans_hyperparams['n_clusters_range']:\n",
    "    for init in kmeans_hyperparams['init_range']:\n",
    "        for it in kmeans_hyperparams['max_iter_range']:\n",
    "            file_name = 'Cluster{}_Init{}_Iter{}'.format(cl, init, it)\n",
    "            with np.load(os.path.join(project_root, 'src', 'data', 'SidBERT_data', 'kmeans', kmeans_dir_name, \n",
    "                                      file_name+'.npz'), allow_pickle=True) as dt:\n",
    "                results_ = dict(dt)\n",
    "            kmeans_results_.append(results_)"
   ]
  },
  {
   "cell_type": "code",
   "execution_count": null,
   "id": "2c262206",
   "metadata": {},
   "outputs": [],
   "source": []
  },
  {
   "cell_type": "code",
   "execution_count": null,
   "id": "d1b15774",
   "metadata": {},
   "outputs": [],
   "source": []
  },
  {
   "cell_type": "code",
   "execution_count": null,
   "id": "6a5acaff",
   "metadata": {},
   "outputs": [],
   "source": []
  }
 ],
 "metadata": {
  "kernelspec": {
   "display_name": "Python 3 (ipykernel)",
   "language": "python",
   "name": "python3"
  },
  "language_info": {
   "codemirror_mode": {
    "name": "ipython",
    "version": 3
   },
   "file_extension": ".py",
   "mimetype": "text/x-python",
   "name": "python",
   "nbconvert_exporter": "python",
   "pygments_lexer": "ipython3",
   "version": "3.8.12"
  }
 },
 "nbformat": 4,
 "nbformat_minor": 5
}
